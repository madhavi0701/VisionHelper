{
 "cells": [
  {
   "cell_type": "markdown",
   "metadata": {},
   "source": [
    "## Making Lane Detector"
   ]
  },
  {
   "cell_type": "code",
   "execution_count": 1,
   "metadata": {},
   "outputs": [],
   "source": [
    "import cv2 as cv\n",
    "import numpy as np\n",
    "from ImagePrep import *\n",
    "from CurveDetector import * \n",
    "from Plotter import *"
   ]
  },
  {
   "cell_type": "code",
   "execution_count": 2,
   "metadata": {},
   "outputs": [],
   "source": [
    "def rescale_frame(frame,percent=75):\n",
    "        width = int(frame.shape[1] * percent / 100)\n",
    "        height = int(frame.shape[0] * percent / 100)\n",
    "        dim = (width,height)\n",
    "        return cv.resize(frame,dim,interpolation = cv.INTER_AREA)"
   ]
  },
  {
   "cell_type": "code",
   "execution_count": 3,
   "metadata": {},
   "outputs": [],
   "source": [
    "prep = PrepareImage((11,11),(3,3),auto_canny=True, segment_y = 0.5)\n",
    "CurveMake = Curve(0.12)\n",
    "plotter = Plotter((200,255,100),10,3)"
   ]
  },
  {
   "cell_type": "code",
   "execution_count": null,
   "metadata": {},
   "outputs": [],
   "source": [
    "# working fine...\n",
    "cap = cv.VideoCapture(\"E:\\InnerveHackathon\\pathvalild_Trim.mp4\")\n",
    "count = 0\n",
    "while (cap.isOpened()):\n",
    "    # ret = a boolean return value from getting the frame,\n",
    "    # frame = the current frame being projected in video\n",
    "    ret, frame = cap.read()\n",
    "    try:\n",
    "        frame = rescale_frame(frame,percent = 57)\n",
    "    except:\n",
    "        break\n",
    "    width , height = frame.shape[1], frame.shape[0]\n",
    "    cv.imshow(\"Original\",frame)\n",
    "    frame = prep.get_binary_image(frame)\n",
    "    points = prep.get_poly_maskpoints(frame)\n",
    "    cv.imshow(\"Canny\",frame)\n",
    "\n",
    "    left_lane = points[0] # two tuple \n",
    "    right_lane = points[1] # two tuple\n",
    "    # pass these co-ordinates and the frame in a new class which \n",
    "    # actually gets the polynomial fitted\n",
    "    left_coords = CurveMake.get_left_curve(frame,left_lane)\n",
    "    right_coords = CurveMake.get_right_curve(frame,right_lane)\n",
    "    \n",
    "#     print(\"Left parabola :\",left_coords)\n",
    "#     print(\"Right parabola :\",right_coords)\n",
    "    # to incorporate the fact that the curve has not been detected\n",
    "    # we return None in the left and right coords if nothing detected.\n",
    "\n",
    "    #define limits -> only in this range I shall plot my curve\n",
    "    limit_left_x = (int(0.15*width),int(0.40*width)) # left to right\n",
    "    limit_right_x = (int(0.85*width),int(0.55*width)) # right to left\n",
    "    new_frame = np.zeros_like(frame)\n",
    "    # plot on image\n",
    "    new_frame = plotter.plot_curve_left(new_frame,limit_left_x,left_coords)\n",
    "    new_frame = plotter.plot_curve_right(new_frame,limit_right_x,right_coords)\n",
    "    cv.line(new_frame,(int(0.5*width),height),(int(0.5*width),0),(0,255,0),4)\n",
    "    #show image\n",
    "    cv.imshow(\"Parabolas\",new_frame)\n",
    "# cv.line(images[1][0],(images[1][0].shape[1]//2,0),(images[1][0].shape[1]//2,images[1][0].shape[0]),(200,200,0),5)\n",
    "    count+=1    \n",
    "    if(count>1000):\n",
    "        break\n",
    "    if cv.waitKey(13) & 0xFF == ord('q'):\n",
    "        break\n",
    "cap.release()\n",
    "cv.destroyAllWindows()"
   ]
  },
  {
   "cell_type": "code",
   "execution_count": null,
   "metadata": {},
   "outputs": [],
   "source": []
  }
 ],
 "metadata": {
  "kernelspec": {
   "display_name": "Python 3",
   "language": "python",
   "name": "python3"
  },
  "language_info": {
   "codemirror_mode": {
    "name": "ipython",
    "version": 3
   },
   "file_extension": ".py",
   "mimetype": "text/x-python",
   "name": "python",
   "nbconvert_exporter": "python",
   "pygments_lexer": "ipython3",
   "version": "3.7.4"
  },
  "varInspector": {
   "cols": {
    "lenName": 16,
    "lenType": 16,
    "lenVar": 40
   },
   "kernels_config": {
    "python": {
     "delete_cmd_postfix": "",
     "delete_cmd_prefix": "del ",
     "library": "var_list.py",
     "varRefreshCmd": "print(var_dic_list())"
    },
    "r": {
     "delete_cmd_postfix": ") ",
     "delete_cmd_prefix": "rm(",
     "library": "var_list.r",
     "varRefreshCmd": "cat(var_dic_list()) "
    }
   },
   "types_to_exclude": [
    "module",
    "function",
    "builtin_function_or_method",
    "instance",
    "_Feature"
   ],
   "window_display": false
  }
 },
 "nbformat": 4,
 "nbformat_minor": 4
}
