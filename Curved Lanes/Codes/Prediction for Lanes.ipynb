{
 "cells": [
  {
   "cell_type": "markdown",
   "metadata": {},
   "source": [
    "## Predictions Class"
   ]
  },
  {
   "cell_type": "code",
   "execution_count": 2,
   "metadata": {
    "ExecuteTime": {
     "end_time": "2021-02-20T13:02:00.228866Z",
     "start_time": "2021-02-20T13:02:00.162383Z"
    }
   },
   "outputs": [],
   "source": [
    "import cv2 as cv\n",
    "import numpy as np \n",
    "class Predictions():\n",
    "    '''Provides predictions for a given binary frame where \n",
    "       the noise in the image has been removed.\n",
    "       PARAMETERS: basis: string -> \"mean\" or \"median\" \n",
    "                           how do you provide the output \n",
    "                           for the lane that you acquired\n",
    "                   threshold: float(0,1) : how closely you \n",
    "                           want the lane to be detected relative \n",
    "                           to center of image '''\n",
    "    def __init__(self,basis = \"mean\",\n",
    "                threshold = 0.08):\n",
    "        \n",
    "        if(basis not in [\"mean\",\"median\"]):\n",
    "            raise ValueError(\"Basis should be either mean or median\")\n",
    "        self.basis = basis\n",
    "        \n",
    "        if(threshold <=0 or threshold>=1 ):\n",
    "            raise ValueError(\"Invalid range for threshold\")\n",
    "        self.threshold = threshold \n",
    "            \n",
    "    def get_lane_middle(self,X):\n",
    "        '''RETURNS: middle x co-ordinate based on the \n",
    "                    basis defined in class parameters '''\n",
    "        if(self.basis == \"mean\"):\n",
    "            mid = int(np.mean(X))\n",
    "        else:\n",
    "            mid = int(np.median(X))\n",
    "        return mid\n",
    "    \n",
    "    def shifted_lane(self,frame,deviation):\n",
    "        '''Generates outputs for where to shift \n",
    "        given the deviation of the lane center \n",
    "        with the image center orientation \n",
    "        \n",
    "        RETURNS: frame with shift outputs '''\n",
    "        \n",
    "        shift_left = \"Lane present on left. Shift left\"\n",
    "        shift_right = \"Lane present on right. Shift right\"\n",
    "        if(deviation < 0):\n",
    "            # means person on the right and lane on the left \n",
    "            # need to shift left \n",
    "            cv.putText(frame,shift_left,(20,height - 20),3,2,(100,10,255),2)\n",
    "        else:\n",
    "            # person needs to shift right \n",
    "            cv.putText(frame,shift_right,(20,height - 20),3,2,(100,255,10),2)\n",
    "        \n",
    "        return frame\n",
    "\n",
    "    def get_outputs(self,frame,points):\n",
    "        '''Generates predictions for walking \n",
    "           on a lane \n",
    "           PARAMETERS: frame : original frame on which we draw\n",
    "                             predicted outputs. This already has the \n",
    "                             lanes drawn on it \n",
    "                       points : list of 2-tuples : the list \n",
    "                              which contains the points of the lane \n",
    "                              which is drawn on the image \n",
    "           RETURNS : a frame with the relevant outputs \n",
    "           '''\n",
    "        \n",
    "        height,width = frame.shape[0], frame.shape[1]\n",
    "        # get the center of frame \n",
    "        center_x = width//2 \n",
    "        # get the distribution of points on \n",
    "        # left and right of image center \n",
    "        left_x,right_x = 0,0\n",
    "        for i in points:\n",
    "            for k in i:\n",
    "                x = k[0]\n",
    "                if(x < center_x):\n",
    "                    left_x+=1\n",
    "                else:\n",
    "                    right_x+=1\n",
    "                X.append(k[0])\n",
    "        # get the lane middle and draw \n",
    "        lane_mid = self.get_lane_middle(X)\n",
    "        cv.line(frame,(lane_mid,height-1),(lane_mid,height - width//10),(100,200,10),2)\n",
    "        # calculate shift\n",
    "        shift_allowed = int(self.threshold*width)\n",
    "        # calculate deviations and put on image \n",
    "        deviation = lane_mid - center_x\n",
    "        deviation_text = \"Deviation: \"+str(np.round((deviation * 100/width),3)) + \"%\"\n",
    "        cv.putText(frame,deviation_text,(lane_mid-30,height-width//(9.5)),3,1,(255,255,255),1)\n",
    "        \n",
    "        if(abs(deviation) >= shift_allowed):\n",
    "            # large deviation : give shift outputs only \n",
    "            frame = self.shifted_lane(frame,deviation)\n",
    "            return frame \n",
    "        else:\n",
    "            # if deviation lesser then that means either correct path \n",
    "            # or a turn is approaching : text put at the center of the \n",
    "            # frame \n",
    "            \n",
    "            total_points= left_x + right_x \n",
    "            correct = \"Good Lane Maintainance. Continue straight\"\n",
    "            left_turn = \"Left turn is approaching. Please start turning left\"\n",
    "            right_turn = \"Right turn is approaching. Please start turning right\"\n",
    "            # if relative change in percentage of points is < 10% then \n",
    "            # going fine \n",
    "            left_perc = left_x*100/(total_points) \n",
    "            right_perc = right_x*100/(total_points) \n",
    "            \n",
    "            if(abs(left_perc - right_perc) < 10):\n",
    "                cv.putText(frame,correct,(20,height - 20),3,2,(100,255,10),2)\n",
    "            else:\n",
    "                if(left_perc > right_perc): # more than 10% relative change \n",
    "                    # means a approximately a right turn is approaching \n",
    "                    cv.putText(frame,right_turn,(20,height - 20),3,2,(100,10,255),2)\n",
    "                else:\n",
    "                    cv.putText(frame,left_turn,(20,height - 20),3,2,(100,255,10),2)\n",
    "            # return the frame with the outputs \n",
    "            # to-do : output with sound \n",
    "            return frame \n",
    "\n",
    "\n",
    "        "
   ]
  },
  {
   "cell_type": "code",
   "execution_count": null,
   "metadata": {},
   "outputs": [],
   "source": []
  }
 ],
 "metadata": {
  "kernelspec": {
   "display_name": "Python 3",
   "language": "python",
   "name": "python3"
  },
  "language_info": {
   "codemirror_mode": {
    "name": "ipython",
    "version": 3
   },
   "file_extension": ".py",
   "mimetype": "text/x-python",
   "name": "python",
   "nbconvert_exporter": "python",
   "pygments_lexer": "ipython3",
   "version": "3.7.4"
  },
  "varInspector": {
   "cols": {
    "lenName": 16,
    "lenType": 16,
    "lenVar": 40
   },
   "kernels_config": {
    "python": {
     "delete_cmd_postfix": "",
     "delete_cmd_prefix": "del ",
     "library": "var_list.py",
     "varRefreshCmd": "print(var_dic_list())"
    },
    "r": {
     "delete_cmd_postfix": ") ",
     "delete_cmd_prefix": "rm(",
     "library": "var_list.r",
     "varRefreshCmd": "cat(var_dic_list()) "
    }
   },
   "types_to_exclude": [
    "module",
    "function",
    "builtin_function_or_method",
    "instance",
    "_Feature"
   ],
   "window_display": false
  }
 },
 "nbformat": 4,
 "nbformat_minor": 2
}
