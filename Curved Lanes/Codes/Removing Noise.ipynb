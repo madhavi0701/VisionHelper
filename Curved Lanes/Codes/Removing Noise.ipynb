{
 "cells": [
  {
   "cell_type": "markdown",
   "metadata": {},
   "source": [
    "### Objective \n",
    "- I have a segmented binary image \n",
    "- Traverse the image patch by patch and get the percentage of points in the patch\n",
    "- If the patch is containing a lot of points,  it is probable that the non zero points are corresponding to a lane \n",
    "- If not , simply discard those points and move ahead \n",
    "- Loop till you cover the whole segment and then return the list of all the non zero points that you classify as <b>lanes</b>"
   ]
  },
  {
   "cell_type": "code",
   "execution_count": 5,
   "metadata": {
    "ExecuteTime": {
     "end_time": "2021-02-20T16:09:16.632011Z",
     "start_time": "2021-02-20T16:09:16.621015Z"
    }
   },
   "outputs": [],
   "source": [
    "import cv2 as cv\n",
    "import numpy as np\n",
    "\n",
    "def get_lane_points(frame,left,right):\n",
    "    '''PARAMETERS: frame : segmented binary image \n",
    "                   left : left lane of the trapezium segment \n",
    "                   right : right lane of the trapezium segment \n",
    "                   \n",
    "    RETURNS : points : a list of 2 tuples of proposed lane coords'''\n",
    "    points = []\n",
    "    left_x = left[0][0]\n",
    "    left_y = left[0][1]\n",
    "    width,height = frame.shape[1],frame.shape[0]\n",
    "    height-=1 # corner case \n",
    "    # side of the square\n",
    "    side = 50\n",
    "    right_x = right[0][0] - side\n",
    "    # generate square : bottom left,bottom right, top right, top left \n",
    "    square = [(left_x,height),(left_x+side,height),(left_x+side,height - side),(left_x,height - side)]\n",
    "    # start at the bottom \n",
    "    # while the base of the square is inside the trapezium : assuming trapezium top at half of the height\n",
    "    while (square[0][1] > int(0.3*height)):\n",
    "        # while top left corner under the right lane, continue\n",
    "        while(square[2][0] < right_x):\n",
    "            # traverse left to right \n",
    "            left_end= square[0][0]\n",
    "            right_end = left_end + side\n",
    "            bottom_end = square[0][1]\n",
    "            upper_end = bottom_end - side \n",
    "#             print(\"Bottom :\",bottom_end,\"Top :\",upper_end)\n",
    "            # start moving bottom to top \n",
    "            sq_points = []\n",
    "            count = 0\n",
    "            for i in range(bottom_end,upper_end,-1):\n",
    "                # start moving left to right\n",
    "                for j in range(left_end,right_end):\n",
    "                    if(frame[i][j] > 0):\n",
    "                        count+=1\n",
    "                        sq_points.append((i,j))\n",
    "            # if the percentage of points is greater than 15% , keep else reject \n",
    "            perc = count/25 # x% of 2500 \n",
    "#             print(count)\n",
    "            if(perc < 10):\n",
    "                points.append(sq_points)\n",
    "            # update the square \n",
    "            x,y = square[1][0],square[1][1]\n",
    "            square = [(x,y),(x+side,y),(x+side,y-side),(x,y-side)]\n",
    "            \n",
    "        # update the base of square\n",
    "        left_x += side # shift right \n",
    "        left_y -= side # shift up \n",
    "        right_x-= side # shift the right point left\n",
    "        square = [(left_x,left_y),(left_x+side,left_y),(left_x+side,left_y-side),(left_x,left_y-side)]\n",
    "        \n",
    "    return points"
   ]
  },
  {
   "cell_type": "code",
   "execution_count": 7,
   "metadata": {
    "ExecuteTime": {
     "end_time": "2021-02-20T16:09:18.075471Z",
     "start_time": "2021-02-20T16:09:18.061493Z"
    }
   },
   "outputs": [],
   "source": [
    "def do_canny(frame):\n",
    "    gray = cv.cvtColor(frame, cv.COLOR_RGB2GRAY)\n",
    "    blur = cv.GaussianBlur(gray, (7,7), 0)\n",
    "    v = np.median(blur)\n",
    "    sigma = 0.33\n",
    "    lower = int(max(0, (1.0 - sigma) * v))\n",
    "    upper = int(min(255, (1.0 + sigma) * v))\n",
    "    canny = cv.Canny(blur,lower,upper)\n",
    "    return canny\n"
   ]
  },
  {
   "cell_type": "code",
   "execution_count": 8,
   "metadata": {
    "ExecuteTime": {
     "end_time": "2021-02-20T16:09:18.315040Z",
     "start_time": "2021-02-20T16:09:18.308019Z"
    }
   },
   "outputs": [],
   "source": [
    "def rescale_frame(frame,percent=75):\n",
    "    width = int(frame.shape[1] * percent / 100)\n",
    "    height = int(frame.shape[0] * percent / 100)\n",
    "    dim = (width,height)\n",
    "    return cv.resize(frame,dim,interpolation = cv.INTER_AREA)"
   ]
  },
  {
   "cell_type": "code",
   "execution_count": 9,
   "metadata": {
    "ExecuteTime": {
     "end_time": "2021-02-20T16:09:18.664874Z",
     "start_time": "2021-02-20T16:09:18.647920Z"
    }
   },
   "outputs": [],
   "source": [
    "def do_segment(frame):\n",
    "    height = frame.shape[0]\n",
    "    width = frame.shape[1]\n",
    "    poly = np.array([\n",
    "        [(0,height),(width,height),(int(frame.shape[1]/2),int(frame.shape[0]/2))] # making a triangular mask for the segment.\n",
    "    ])\n",
    "    mask = np.zeros_like(frame)\n",
    "    cv.fillPoly(mask,poly,255) # filling the frame's pentagon with ones\n",
    "    \n",
    "    segment = cv.bitwise_and(frame,mask)\n",
    "    \n",
    "    return segment"
   ]
  },
  {
   "cell_type": "code",
   "execution_count": 20,
   "metadata": {
    "ExecuteTime": {
     "end_time": "2021-02-20T16:15:30.133495Z",
     "start_time": "2021-02-20T16:13:55.084936Z"
    }
   },
   "outputs": [],
   "source": [
    "cap = cv.VideoCapture(r\"E:\\InnerveHackathon\\pathvalild_Trim.mp4\")\n",
    "while (cap.isOpened()):\n",
    "    ret, frame = cap.read()\n",
    "    try:\n",
    "        frame = rescale_frame(frame,percent = 57)\n",
    "    except:\n",
    "        break\n",
    "    canny = do_canny(frame)\n",
    "    im = do_segment(canny)\n",
    "    width,height = im.shape[1],im.shape[0]\n",
    "    left = ((0,height),(width//2,int(height*0.3)))\n",
    "    right = ((width,height),(width//2,int(0.3*height)))\n",
    "    points = get_lane_points(im,left,right)\n",
    "    cv.imshow(\"Orig\",im)\n",
    "    f = np.zeros_like(im) \n",
    "    for k in points:\n",
    "        for i in k:\n",
    "            x,y = i[0],i[1]\n",
    "            f[x][y] = 180\n",
    "    cv.imshow(\"De noised\",f)\n",
    "    if cv.waitKey(13) & 0xFF == ord('q'):\n",
    "        break\n",
    "cap.release()\n",
    "cv.destroyAllWindows()"
   ]
  },
  {
   "cell_type": "code",
   "execution_count": null,
   "metadata": {},
   "outputs": [],
   "source": []
  }
 ],
 "metadata": {
  "kernelspec": {
   "display_name": "Python 3",
   "language": "python",
   "name": "python3"
  },
  "language_info": {
   "codemirror_mode": {
    "name": "ipython",
    "version": 3
   },
   "file_extension": ".py",
   "mimetype": "text/x-python",
   "name": "python",
   "nbconvert_exporter": "python",
   "pygments_lexer": "ipython3",
   "version": "3.8.7"
  },
  "varInspector": {
   "cols": {
    "lenName": 16,
    "lenType": 16,
    "lenVar": 40
   },
   "kernels_config": {
    "python": {
     "delete_cmd_postfix": "",
     "delete_cmd_prefix": "del ",
     "library": "var_list.py",
     "varRefreshCmd": "print(var_dic_list())"
    },
    "r": {
     "delete_cmd_postfix": ") ",
     "delete_cmd_prefix": "rm(",
     "library": "var_list.r",
     "varRefreshCmd": "cat(var_dic_list()) "
    }
   },
   "types_to_exclude": [
    "module",
    "function",
    "builtin_function_or_method",
    "instance",
    "_Feature"
   ],
   "window_display": false
  }
 },
 "nbformat": 4,
 "nbformat_minor": 4
}
